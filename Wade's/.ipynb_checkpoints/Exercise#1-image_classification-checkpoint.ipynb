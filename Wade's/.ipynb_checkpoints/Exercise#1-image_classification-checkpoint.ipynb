{
 "cells": [
  {
   "cell_type": "markdown",
   "source": [],
   "metadata": {
    "collapsed": false
   },
   "id": "82b4b44a60e3e065"
  },
  {
   "cell_type": "markdown",
   "source": [
    "Download the cat_dog_images zip and put it in your Data folder if you haven't already.\n",
    "\n",
    "Read in every file from the cat_dog_images directory. For every .png image in those directories:\n",
    "\n",
    "Convert it to a monochrome image by averaging the RGB values for each pixel (use numpy to do this quickly!).\n",
    "This isn't the most \"eye-accurate\" way of converting to monochrome, but it is the easiest!\n",
    "Display the monochrome image.\n",
    "Save the monochrome image into a matching directory in Data/monochrome - that is, if you've read in \"Data/cat_dog_images/cat/cat1.png\", you should save the monochrome version to \"Data/monochrome_cat_dog_images/cat/cat1.png\"\n",
    "Make sure your script will create the monochrome_cat_dog_images directory if it does not exist\n",
    "The image library won't let you save float values in a PNG image, so before you save the image you'll have to convert the values to uint8\n"
   ],
   "metadata": {
    "collapsed": false
   },
   "id": "2c75bbcc85ec1225"
  },
  {
   "cell_type": "code",
   "execution_count": null,
   "outputs": [],
   "source": [],
   "metadata": {
    "collapsed": false
   },
   "id": "73e082a288367fdf"
  }
 ],
 "metadata": {
  "kernelspec": {
   "display_name": "Python 3",
   "language": "python",
   "name": "python3"
  },
  "language_info": {
   "codemirror_mode": {
    "name": "ipython",
    "version": 2
   },
   "file_extension": ".py",
   "mimetype": "text/x-python",
   "name": "python",
   "nbconvert_exporter": "python",
   "pygments_lexer": "ipython2",
   "version": "2.7.6"
  }
 },
 "nbformat": 4,
 "nbformat_minor": 5
}
