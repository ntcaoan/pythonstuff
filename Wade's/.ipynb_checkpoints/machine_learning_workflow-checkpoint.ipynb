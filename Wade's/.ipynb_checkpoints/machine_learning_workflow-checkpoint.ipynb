{
 "cells": [
  {
   "cell_type": "markdown",
   "source": [
    "## The basic machine learning workflow\n",
    "When you are trying to develop a model using machine learning, go thru those workflows\n",
    "    1. examine and understand the data\n",
    "    2. build an input pipeline\n",
    "    3. build the model\n",
    "    4. train the model\n",
    "    5. test the model\n",
    "    6. improve the model and repeat the process\n",
    "   \n",
    "\n",
    "### Step 1: Understand the data\n",
    "Images can be stored in lots of different format -> but we will use a library to handle reading them in, so we don't have to worry about how they are stored\n",
    "In terms of data, an image is a collection of pixels along an x and y axis"
   ],
   "metadata": {
    "collapsed": false
   },
   "id": "c03af1d24164a643"
  },
  {
   "cell_type": "code",
   "execution_count": null,
   "outputs": [],
   "source": [
    "print(\"this is for taking note\")"
   ],
   "metadata": {
    "collapsed": false,
    "is_executing": true
   },
   "id": "a21afdb240d97353"
  },
  {
   "cell_type": "markdown",
   "source": [
    "The color data is referred to as the \"channel\" data , and it should be immediately obvious there are 2 different ways we could store it\n",
    "For example:"
   ],
   "metadata": {
    "collapsed": false
   },
   "id": "21afcf576f28444e"
  },
  {
   "cell_type": "markdown",
   "source": [
    "Tensorflow's default is channel last - but sometimes we'll use channel first for various performance reasons\n",
    "What about greyscale image?\n",
    "    Typically are represented as only 2d arrays, but machine learning stuff requires 3 dimensions\n",
    "There can be a lot of variations on how we might want our data, but if we understand they are just arrays, it's usually pretty trivial\n",
    "\n",
    "Beyond just understanding the format the data is in, also need to understand what is is\n",
    "    - Is all the data uniform in size, shape, format, etc?\n",
    "    - How is the data classified? What meaning do we as humans put on that data?\n",
    "    - How much data do we have?\n",
    "    - Are there any potential errors?"
   ],
   "metadata": {
    "collapsed": false
   },
   "id": "4fb6f35eb21fb0d"
  },
  {
   "cell_type": "code",
   "execution_count": null,
   "outputs": [],
   "source": [
    "print(\"hello\")\n",
    "print(\"bye\")"
   ],
   "metadata": {
    "collapsed": false,
    "is_executing": true
   },
   "id": "d1716c6fc6e90300"
  }
 ],
 "metadata": {
  "kernelspec": {
   "display_name": "Python 3",
   "language": "python",
   "name": "python3"
  },
  "language_info": {
   "codemirror_mode": {
    "name": "ipython",
    "version": 2
   },
   "file_extension": ".py",
   "mimetype": "text/x-python",
   "name": "python",
   "nbconvert_exporter": "python",
   "pygments_lexer": "ipython2",
   "version": "2.7.6"
  }
 },
 "nbformat": 4,
 "nbformat_minor": 5
}
